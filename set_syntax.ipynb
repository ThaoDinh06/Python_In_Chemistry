{
  "nbformat": 4,
  "nbformat_minor": 0,
  "metadata": {
    "colab": {
      "provenance": []
    },
    "kernelspec": {
      "name": "python3",
      "display_name": "Python 3"
    },
    "language_info": {
      "name": "python"
    }
  },
  "cells": [
    {
      "cell_type": "markdown",
      "source": [
        "# Overview: Creating a set\n",
        "* a set doesn't repeat the elements.\n",
        "* The ouput of a set prints random items in the set"
      ],
      "metadata": {
        "id": "rQBE3Jk8IoTI"
      }
    },
    {
      "cell_type": "code",
      "source": [
        "#Creating sets: not repeat the elements\n",
        "set_1 = {19,2,70,66,5,70,9,43}\n",
        "print(set_1)"
      ],
      "metadata": {
        "colab": {
          "base_uri": "https://localhost:8080/"
        },
        "id": "y6BkfuA2IqXY",
        "outputId": "9da22bb2-139d-4db6-b4be-101ff86894ff"
      },
      "execution_count": null,
      "outputs": [
        {
          "output_type": "stream",
          "name": "stdout",
          "text": [
            "{2, 66, 19, 5, 70, 9, 43}\n"
          ]
        }
      ]
    },
    {
      "cell_type": "code",
      "source": [
        "#Creating set: a set can contain the list\n",
        "set_2 = set([1,22,\"Moon\",5,7,22,\"Moon\",443])\n",
        "print(set_2)\n",
        "#the tuple\n",
        "set_3 = set((6,44,5,99,12,44))\n",
        "print(set_3)"
      ],
      "metadata": {
        "colab": {
          "base_uri": "https://localhost:8080/"
        },
        "id": "AFcb0YDpJCT0",
        "outputId": "18c19733-46bc-4e6e-de22-fd27e615cb3d"
      },
      "execution_count": null,
      "outputs": [
        {
          "output_type": "stream",
          "name": "stdout",
          "text": [
            "{1, 5, 7, 'Moon', 22, 443}\n",
            "{99, 5, 6, 12, 44}\n"
          ]
        }
      ]
    },
    {
      "cell_type": "code",
      "source": [],
      "metadata": {
        "id": "AHwDRwm_KUwh"
      },
      "execution_count": null,
      "outputs": []
    },
    {
      "cell_type": "markdown",
      "source": [
        "#Adding elements to the set:"
      ],
      "metadata": {
        "id": "t-tuB8JmMTm4"
      }
    },
    {
      "cell_type": "code",
      "source": [
        "#add(): add the elements to the set:\n",
        "set_4 = set_1.copy()\n",
        "set_4.add(65)\n",
        "print('Set 1 is:',set_1)\n",
        "print('Set 4 is:',set_4)"
      ],
      "metadata": {
        "colab": {
          "base_uri": "https://localhost:8080/"
        },
        "id": "Mq3XKTDIMZ8Q",
        "outputId": "4b0a232e-8bc8-47a6-a79d-cdbfe9f93579"
      },
      "execution_count": null,
      "outputs": [
        {
          "output_type": "stream",
          "name": "stdout",
          "text": [
            "Set 1 is: {2, 66, 19, 5, 70, 9, 43}\n",
            "Set 4 is: {65, 2, 66, 19, 5, 70, 9, 43}\n"
          ]
        }
      ]
    },
    {
      "cell_type": "code",
      "source": [
        "#update(): Insert the items from set y into set x. \n",
        "#If an item is present in both sets, only one appearance of this item will be present in the updated set\n",
        "set_6 = set_1.copy()\n",
        "set_6.update(set_2)\n",
        "print('set 2:',set_2)\n",
        "print('set 6:',set_6)"
      ],
      "metadata": {
        "colab": {
          "base_uri": "https://localhost:8080/"
        },
        "id": "9Oti4t7qM5B4",
        "outputId": "36ec2b85-defa-40ee-942a-cb39c209a238"
      },
      "execution_count": null,
      "outputs": [
        {
          "output_type": "stream",
          "name": "stdout",
          "text": [
            "set 2: {1, 5, 7, 'Moon', 22, 443}\n",
            "set 6: {1, 2, 66, 5, 70, 7, 9, 43, 19, 'Moon', 22, 443}\n"
          ]
        }
      ]
    },
    {
      "cell_type": "markdown",
      "source": [
        "#Merging sets"
      ],
      "metadata": {
        "id": "08eklI9VNKW1"
      }
    },
    {
      "cell_type": "markdown",
      "source": [],
      "metadata": {
        "id": "cB1k4h5xVSbk"
      }
    },
    {
      "cell_type": "code",
      "source": [
        "#merge sets:\n",
        "print('set 2 is:',set_2)\n",
        "print('set 3 is:',set_3)\n",
        "set_5 = set_3.union(set_2)\n",
        "print('The new set 5 is:',set_5)"
      ],
      "metadata": {
        "colab": {
          "base_uri": "https://localhost:8080/"
        },
        "id": "FjcAcdiRNOq3",
        "outputId": "e23abb8f-5ef0-482f-dfbc-56500776c17a"
      },
      "execution_count": null,
      "outputs": [
        {
          "output_type": "stream",
          "name": "stdout",
          "text": [
            "set 2 is: {1, 5, 7, 'Moon', 22, 443}\n",
            "set 3 is: {5}\n",
            "The new set 5 is: {1, 5, 'Moon', 7, 22, 443}\n"
          ]
        }
      ]
    },
    {
      "cell_type": "markdown",
      "source": [
        "# Intersection"
      ],
      "metadata": {
        "id": "Tq88IIIqPk_h"
      }
    },
    {
      "cell_type": "code",
      "source": [
        "#intersection()\tReturns a set, that is the intersection of two or more sets\n",
        "set_3.intersection(set_2)"
      ],
      "metadata": {
        "colab": {
          "base_uri": "https://localhost:8080/"
        },
        "id": "UIgzbSUENmlP",
        "outputId": "469986a0-54ac-4eef-f410-53307f4596bb"
      },
      "execution_count": null,
      "outputs": [
        {
          "output_type": "execute_result",
          "data": {
            "text/plain": [
              "{5}"
            ]
          },
          "metadata": {},
          "execution_count": 27
        }
      ]
    },
    {
      "cell_type": "code",
      "source": [
        "#intersection_update(): Remove the items that is not present in both x and y\n",
        "#Removes the items in this set that are not present in other, specified set(s)\n",
        "set_3.intersection_update(set_2)\n",
        "print(set_3)\n",
        "\n",
        "x = {\"a\", \"b\", \"c\"}\n",
        "y = {\"c\", \"d\", \"e\"}\n",
        "z = {\"f\", \"g\", \"c\"}\n",
        "x.intersection_update(y, z)\n",
        "print(x)"
      ],
      "metadata": {
        "colab": {
          "base_uri": "https://localhost:8080/"
        },
        "id": "bsAEVfkvPWS_",
        "outputId": "87469c11-e1ff-4213-82c8-5a474b86594e"
      },
      "execution_count": null,
      "outputs": [
        {
          "output_type": "stream",
          "name": "stdout",
          "text": [
            "{5}\n",
            "{'c'}\n"
          ]
        }
      ]
    },
    {
      "cell_type": "code",
      "source": [],
      "metadata": {
        "id": "7CC8Gk9GPtDe"
      },
      "execution_count": null,
      "outputs": []
    },
    {
      "cell_type": "markdown",
      "source": [
        "#Different"
      ],
      "metadata": {
        "id": "mVJ_7AMmReE5"
      }
    },
    {
      "cell_type": "code",
      "source": [
        "#difference()\tReturns a set containing the difference between two or more sets\n",
        "#Return a set that contains the items that only exist in set x, and not in set y:\n",
        "x = {\"apple\", \"banana\", \"cherry\"}\n",
        "y = {\"google\", \"microsoft\", \"apple\"}\n",
        "\n",
        "z = x.difference(y)\n",
        "\n",
        "print(z)"
      ],
      "metadata": {
        "colab": {
          "base_uri": "https://localhost:8080/"
        },
        "id": "UoAx6iu8Rflm",
        "outputId": "f098bf01-a408-4e1d-f960-9ad61ce67c1e"
      },
      "execution_count": null,
      "outputs": [
        {
          "output_type": "stream",
          "name": "stdout",
          "text": [
            "{'cherry', 'banana'}\n"
          ]
        }
      ]
    },
    {
      "cell_type": "code",
      "source": [
        "#difference_update()\t\n",
        "#Removes the items in this set that are also included in another, specified set\n",
        "x = {\"apple\", \"banana\", \"cherry\"}\n",
        "y = {\"google\", \"microsoft\", \"apple\"}\n",
        "x.difference_update(y)\n",
        "print(x)"
      ],
      "metadata": {
        "colab": {
          "base_uri": "https://localhost:8080/"
        },
        "id": "MEQso1xHRjTh",
        "outputId": "7f6c5b41-a48b-4b37-f961-600d7dedc6bd"
      },
      "execution_count": null,
      "outputs": [
        {
          "output_type": "stream",
          "name": "stdout",
          "text": [
            "{'cherry', 'banana'}\n"
          ]
        }
      ]
    },
    {
      "cell_type": "markdown",
      "source": [
        "# Symmetric\n",
        "* The symmetric_difference() method returns a set that contains all items from both set, but not the items that are present in both sets.\n",
        "Meaning: The returned set contains a mix of items that are not present in both sets.\n",
        "\n",
        "* The symmetric_difference_update() method updates the original set by removing items that are present in both sets, and inserting the other items.\n"
      ],
      "metadata": {
        "id": "DH7olP4YVgCj"
      }
    },
    {
      "cell_type": "code",
      "source": [
        "#Return a set that contains all items from both sets, except items that are present in both sets:\n",
        "x = {\"apple\", \"banana\", \"cherry\"}\n",
        "y = {\"google\", \"microsoft\", \"apple\"}\n",
        "z = x.symmetric_difference(y)\n",
        "print(z)"
      ],
      "metadata": {
        "colab": {
          "base_uri": "https://localhost:8080/"
        },
        "id": "NlrUZKrmVir8",
        "outputId": "2f77f2c6-595c-4ffb-84ec-7c1a0ecea048"
      },
      "execution_count": null,
      "outputs": [
        {
          "output_type": "stream",
          "name": "stdout",
          "text": [
            "{'banana', 'microsoft', 'google', 'cherry'}\n"
          ]
        }
      ]
    },
    {
      "cell_type": "code",
      "source": [
        "#symmetric_difference_update() \n",
        "#Remove the items that are present in both sets, AND insert the items that is not present in both sets:\n",
        "x = {\"apple\", \"banana\", \"cherry\"}\n",
        "y = {\"google\", \"microsoft\", \"apple\"}\n",
        "x.symmetric_difference_update(y)\n",
        "print(x)"
      ],
      "metadata": {
        "colab": {
          "base_uri": "https://localhost:8080/"
        },
        "id": "uwGlNSq0VyfJ",
        "outputId": "943b63c9-f3d7-4a2b-a12e-02693872b239"
      },
      "execution_count": null,
      "outputs": [
        {
          "output_type": "stream",
          "name": "stdout",
          "text": [
            "{'microsoft', 'banana', 'google', 'cherry'}\n"
          ]
        }
      ]
    },
    {
      "cell_type": "markdown",
      "source": [
        "# Remove"
      ],
      "metadata": {
        "id": "44sV973bS21_"
      }
    },
    {
      "cell_type": "markdown",
      "source": [
        "* pop(): Remove a random item from the set. This method returns the removed item\n",
        "* discard(): remove specified item from the set.\n",
        "* remove(): remove specified item from the set. The remove() method will raise an error if the specified item does not exist, and the discard() method will not.\n",
        "* clear(): Removes all the elements from the set\n",
        "\n"
      ],
      "metadata": {
        "id": "KumI2RWuTvCL"
      }
    },
    {
      "cell_type": "code",
      "source": [
        "#pop(): Remove a random item from the set. This method returns the removed item\n",
        "set_7 = set_1.copy()\n",
        "set_7.pop()\n",
        "print('set 1:',set_1)\n",
        "print('set 7:',set_7)\n"
      ],
      "metadata": {
        "colab": {
          "base_uri": "https://localhost:8080/"
        },
        "id": "leOOI38VUIrH",
        "outputId": "34fb3e44-f826-49eb-e0fb-f1f62e1ea0b3"
      },
      "execution_count": null,
      "outputs": [
        {
          "output_type": "stream",
          "name": "stdout",
          "text": [
            "set 1: {2, 66, 19, 5, 70, 9, 43}\n",
            "set 7: {66, 19, 5, 70, 9, 43}\n"
          ]
        }
      ]
    },
    {
      "cell_type": "code",
      "source": [
        "#discard(): Remove \"banana\" from the set\n",
        "set_a = {\"pinapple\", \"apple\", \"banana\", \"jackfruit\"}\n",
        "set_a.discard(\"banana\")\n",
        "\n",
        "print('set a:',set_a)"
      ],
      "metadata": {
        "colab": {
          "base_uri": "https://localhost:8080/"
        },
        "id": "wNl4EkNmS4ke",
        "outputId": "dd2e0195-17e1-4543-ec0d-62e7bb827e58"
      },
      "execution_count": null,
      "outputs": [
        {
          "output_type": "stream",
          "name": "stdout",
          "text": [
            "set a: {'apple', 'pinapple', 'jackfruit'}\n"
          ]
        }
      ]
    },
    {
      "cell_type": "code",
      "source": [
        "#remove():\tRemoves the specified element\n",
        "#the remove() method will raise an error if the specified item does not exist, \n",
        "#and the discard() method will not.\n",
        "set_b = {\"Jack\", 15, 19, \"John\"}\n",
        "set_b.remove(15)\n",
        "\n",
        "print('set b:',set_b)"
      ],
      "metadata": {
        "colab": {
          "base_uri": "https://localhost:8080/"
        },
        "id": "JE1ELWB8TOAn",
        "outputId": "bd4beadd-2cda-4c14-bf1c-43293da37355"
      },
      "execution_count": null,
      "outputs": [
        {
          "output_type": "stream",
          "name": "stdout",
          "text": [
            "set b: {19, 'John', 'Jack'}\n"
          ]
        }
      ]
    },
    {
      "cell_type": "code",
      "source": [
        "#clear(): Removes all the elements from the set\n",
        "set_c = set_b.copy()\n",
        "set_c.clear()\n",
        "print('set c:',set_c)"
      ],
      "metadata": {
        "colab": {
          "base_uri": "https://localhost:8080/"
        },
        "id": "dq5ehQGKXQu3",
        "outputId": "b45e68e1-12a1-4365-e45f-186f7f094586"
      },
      "execution_count": null,
      "outputs": [
        {
          "output_type": "stream",
          "name": "stdout",
          "text": [
            "set c: set()\n"
          ]
        }
      ]
    },
    {
      "cell_type": "markdown",
      "source": [
        "# Boolean value\n",
        "* The isdisjoint() method returns True if none of the items are present in both sets, otherwise it returns False.\n",
        "* The issubset() method returns True if all items in the set exists in the specified set, otherwise it returns False.\n",
        "* The issuperset() method returns True if all items in the specified set exists in the original set, otherwise it returns False.\n"
      ],
      "metadata": {
        "id": "NA06kXdjYsLW"
      }
    },
    {
      "cell_type": "code",
      "source": [
        "# isdisjoint(): Return True if no items in set x is present in set y:\n",
        "x = {\"apple\", \"banana\", \"cherry\"}\n",
        "y = {\"google\", \"microsoft\", \"facebook\"}\n",
        "z = x.isdisjoint(y)\n",
        "print(z)"
      ],
      "metadata": {
        "colab": {
          "base_uri": "https://localhost:8080/"
        },
        "id": "WSwp_977Zi8K",
        "outputId": "ac3dac14-d863-4b02-cbdb-afc92dcc87f7"
      },
      "execution_count": null,
      "outputs": [
        {
          "output_type": "stream",
          "name": "stdout",
          "text": [
            "True\n"
          ]
        }
      ]
    },
    {
      "cell_type": "code",
      "source": [
        "# isubset(): The issubset() method returns True if all items in the set exists in the specified set, otherwise it returns False.\n",
        "x = {\"a\", \"b\", \"c\"}\n",
        "y = {\"f\", \"e\", \"d\", \"c\", \"b\", \"a\"}\n",
        "z = x.issubset(y)\n",
        "print(z)\n"
      ],
      "metadata": {
        "colab": {
          "base_uri": "https://localhost:8080/"
        },
        "id": "Ycm3zeNAZQFB",
        "outputId": "3fdad0a4-a96b-470b-c9a7-1007a4dc6f78"
      },
      "execution_count": null,
      "outputs": [
        {
          "output_type": "stream",
          "name": "stdout",
          "text": [
            "True\n"
          ]
        }
      ]
    },
    {
      "cell_type": "code",
      "source": [
        "# issuperset(): Return True if all items set y are present in set x:\n",
        "x = {\"f\", \"e\", \"d\", \"c\", \"b\", \"a\"}\n",
        "y = {\"a\", \"b\", \"c\"}\n",
        "z = x.issuperset(y)\n",
        "print(z)"
      ],
      "metadata": {
        "colab": {
          "base_uri": "https://localhost:8080/"
        },
        "id": "lCRwpjN5YhyG",
        "outputId": "031fbf9d-51e3-4fc4-d5ae-19c20e26a7b5"
      },
      "execution_count": null,
      "outputs": [
        {
          "output_type": "stream",
          "name": "stdout",
          "text": [
            "True\n"
          ]
        }
      ]
    }
  ]
}
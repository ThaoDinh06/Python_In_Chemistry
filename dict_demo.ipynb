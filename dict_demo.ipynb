{
  "nbformat": 4,
  "nbformat_minor": 0,
  "metadata": {
    "colab": {
      "provenance": []
    },
    "kernelspec": {
      "name": "python3",
      "display_name": "Python 3"
    },
    "language_info": {
      "name": "python"
    }
  },
  "cells": [
    {
      "cell_type": "markdown",
      "source": [
        "# Overview"
      ],
      "metadata": {
        "id": "AmeMsOrveLKT"
      }
    },
    {
      "cell_type": "code",
      "execution_count": null,
      "metadata": {
        "id": "cixEXDpkSJ_-"
      },
      "outputs": [],
      "source": [
        "dict_1 = {'John': 33,\n",
        "          \"Tim\": 12,\n",
        "          \"Josh\": 65,\n",
        "          \"Jesseca\": 24,\n",
        "          \"Alice\": 19,\n",
        "    \n",
        "}"
      ]
    },
    {
      "cell_type": "code",
      "source": [
        "#length of dict:\n",
        "len(dict_1)"
      ],
      "metadata": {
        "colab": {
          "base_uri": "https://localhost:8080/"
        },
        "id": "eRbLS-UkSsaP",
        "outputId": "a5a2dc7b-3356-4ed6-9c7c-ac0df013a9ac"
      },
      "execution_count": null,
      "outputs": [
        {
          "output_type": "execute_result",
          "data": {
            "text/plain": [
              "5"
            ]
          },
          "metadata": {},
          "execution_count": 2
        }
      ]
    },
    {
      "cell_type": "code",
      "source": [
        "#find the value by the key:\n",
        "dict_1['Josh']"
      ],
      "metadata": {
        "colab": {
          "base_uri": "https://localhost:8080/"
        },
        "id": "OUpzfB1oSxAU",
        "outputId": "bde09641-fb46-46b2-d152-9e9088cd9192"
      },
      "execution_count": null,
      "outputs": [
        {
          "output_type": "execute_result",
          "data": {
            "text/plain": [
              "65"
            ]
          },
          "metadata": {},
          "execution_count": 3
        }
      ]
    },
    {
      "cell_type": "code",
      "source": [
        "#find the value by the key:\n",
        "dict_1.get('Josh')"
      ],
      "metadata": {
        "colab": {
          "base_uri": "https://localhost:8080/"
        },
        "id": "KEyK9ZLAWPhV",
        "outputId": "591ad9c8-af87-4e74-d570-c5ebffec7688"
      },
      "execution_count": null,
      "outputs": [
        {
          "output_type": "execute_result",
          "data": {
            "text/plain": [
              "65"
            ]
          },
          "metadata": {},
          "execution_count": 13
        }
      ]
    },
    {
      "cell_type": "code",
      "source": [
        "#list of all keys:\n",
        "dict_1.keys()"
      ],
      "metadata": {
        "colab": {
          "base_uri": "https://localhost:8080/"
        },
        "id": "w9p4IU10TJkU",
        "outputId": "149106d7-48be-4827-cf37-d1981749e28c"
      },
      "execution_count": null,
      "outputs": [
        {
          "output_type": "execute_result",
          "data": {
            "text/plain": [
              "dict_keys(['John', 'Tim', 'Josh', 'Jesseca', 'Alice'])"
            ]
          },
          "metadata": {},
          "execution_count": 4
        }
      ]
    },
    {
      "cell_type": "code",
      "source": [
        "#list of all values:\n",
        "dict_1.values()"
      ],
      "metadata": {
        "colab": {
          "base_uri": "https://localhost:8080/"
        },
        "id": "1AqidOqgTUiT",
        "outputId": "eff8411c-118c-4766-ee82-6daeb5819909"
      },
      "execution_count": null,
      "outputs": [
        {
          "output_type": "execute_result",
          "data": {
            "text/plain": [
              "dict_values([33, 12, 65, 24, 19])"
            ]
          },
          "metadata": {},
          "execution_count": 6
        }
      ]
    },
    {
      "cell_type": "code",
      "source": [
        "#list of all items:\n",
        "dict_1.items()"
      ],
      "metadata": {
        "colab": {
          "base_uri": "https://localhost:8080/"
        },
        "id": "Ujzq8G4NTi1F",
        "outputId": "9e883970-1a54-44a0-fbb0-1a0fca551d50"
      },
      "execution_count": null,
      "outputs": [
        {
          "output_type": "execute_result",
          "data": {
            "text/plain": [
              "dict_items([('John', 33), ('Tim', 12), ('Josh', 65), ('Jesseca', 24), ('Alice', 19)])"
            ]
          },
          "metadata": {},
          "execution_count": 7
        }
      ]
    },
    {
      "cell_type": "code",
      "source": [
        "#find key in dict:\n",
        "\"John\" in dict_1"
      ],
      "metadata": {
        "colab": {
          "base_uri": "https://localhost:8080/"
        },
        "id": "0L-0XjbvTvh7",
        "outputId": "57ea8e3a-8135-42be-c3c8-1f2a8e0b9beb"
      },
      "execution_count": null,
      "outputs": [
        {
          "output_type": "execute_result",
          "data": {
            "text/plain": [
              "True"
            ]
          },
          "metadata": {},
          "execution_count": 8
        }
      ]
    },
    {
      "cell_type": "markdown",
      "source": [
        "# Add key-value:"
      ],
      "metadata": {
        "id": "hAFuxOS_YTYd"
      }
    },
    {
      "cell_type": "code",
      "source": [
        "#add key-value pair:\n",
        "dict_1['William'] = 44\n",
        "dict_2 = dict_1.copy()\n",
        "dict_2['Tim'] = 22\n",
        "print('Dictionary 1 is: ',dict_1)\n",
        "print('Dictionary 2 is: ',dict_2)"
      ],
      "metadata": {
        "colab": {
          "base_uri": "https://localhost:8080/"
        },
        "id": "yvfkTE2PT8Bd",
        "outputId": "ce1264a6-9f95-4f71-937f-97eb12b22437"
      },
      "execution_count": null,
      "outputs": [
        {
          "output_type": "stream",
          "name": "stdout",
          "text": [
            "Dictionary 1 is:  {'John': 33, 'Tim': 12, 'Josh': 65, 'Jesseca': 24, 'Alice': 19, 'William': 44}\n",
            "Dictionary 2 is:  {'John': 33, 'Tim': 22, 'Josh': 65, 'Jesseca': 24, 'Alice': 19, 'William': 44}\n"
          ]
        }
      ]
    },
    {
      "cell_type": "code",
      "source": [
        "#upadte key-value pair:\n",
        "dict_4 = dict_1.copy()\n",
        "dict_4.update({\"Tim\": 32})\n",
        "print('Dictionary 1 is: ',dict_1)\n",
        "print('Dictionary 4 is: ',dict_4)"
      ],
      "metadata": {
        "colab": {
          "base_uri": "https://localhost:8080/"
        },
        "id": "AQQqjCgcVPm0",
        "outputId": "cc2a32ca-9818-45f9-bfdc-56c1c297a7ef"
      },
      "execution_count": null,
      "outputs": [
        {
          "output_type": "stream",
          "name": "stdout",
          "text": [
            "Dictionary 1 is:  {'John': 33, 'Tim': 12, 'Josh': 65, 'Jesseca': 24, 'Alice': 19, 'William': 44}\n",
            "Dictionary 4 is:  {'John': 33, 'Tim': 32, 'Josh': 65, 'Jesseca': 24, 'Alice': 19, 'William': 44}\n"
          ]
        }
      ]
    },
    {
      "cell_type": "markdown",
      "source": [
        "# Delete item:"
      ],
      "metadata": {
        "id": "fNJCRHdrYaB7"
      }
    },
    {
      "cell_type": "code",
      "source": [
        "#The del keyword removes the item with the specified key name:\n",
        "dict_3 = dict_1.copy()\n",
        "del dict_3[\"Josh\"]\n",
        "print('Dictionary 1 is: ',dict_1)\n",
        "print('Dictionary 3 is: ',dict_3)"
      ],
      "metadata": {
        "colab": {
          "base_uri": "https://localhost:8080/"
        },
        "id": "qUqyteu9USlc",
        "outputId": "73cb1c55-98ab-4fe6-87b9-8e5675a95acc"
      },
      "execution_count": null,
      "outputs": [
        {
          "output_type": "stream",
          "name": "stdout",
          "text": [
            "Dictionary 1 is:  {'John': 33, 'Tim': 12, 'Josh': 65, 'Jesseca': 24, 'Alice': 19, 'William': 44}\n",
            "Dictionary 3 is:  {'John': 33, 'Tim': 12, 'Jesseca': 24, 'Alice': 19, 'William': 44}\n"
          ]
        }
      ]
    },
    {
      "cell_type": "code",
      "source": [
        "#The pop() method removes the item with the specified key name:\n",
        "dict_5 = dict_1.copy()\n",
        "dict_5.pop(\"John\")\n",
        "print('Dictionary 1 is: ',dict_1)\n",
        "print('Dictionary 5 is: ',dict_5)"
      ],
      "metadata": {
        "colab": {
          "base_uri": "https://localhost:8080/"
        },
        "id": "gxL8C_SyXJnt",
        "outputId": "01afa5ac-95e6-4eaa-d154-3a440d64f4ca"
      },
      "execution_count": null,
      "outputs": [
        {
          "output_type": "stream",
          "name": "stdout",
          "text": [
            "Dictionary 1 is:  {'John': 33, 'Tim': 12, 'Josh': 65, 'Jesseca': 24, 'Alice': 19, 'William': 44}\n",
            "Dictionary 5 is:  {'Tim': 12, 'Josh': 65, 'Jesseca': 24, 'Alice': 19, 'William': 44}\n"
          ]
        }
      ]
    },
    {
      "cell_type": "code",
      "source": [
        "#The popitem() method removes the last inserted item \n",
        "#(in versions before 3.7, a random item is removed instead):\n",
        "dict_6 = dict_1.copy()\n",
        "dict_6.popitem()\n",
        "print('Dictionary 1 is: ',dict_1)\n",
        "print('Dictionary 6 is: ',dict_6)"
      ],
      "metadata": {
        "colab": {
          "base_uri": "https://localhost:8080/"
        },
        "id": "dI0HqLopXpTE",
        "outputId": "a615e588-94be-4da8-edef-b790005c100c"
      },
      "execution_count": null,
      "outputs": [
        {
          "output_type": "stream",
          "name": "stdout",
          "text": [
            "Dictionary 1 is:  {'John': 33, 'Tim': 12, 'Josh': 65, 'Jesseca': 24, 'Alice': 19, 'William': 44}\n",
            "Dictionary 6 is:  {'John': 33, 'Tim': 12, 'Josh': 65, 'Jesseca': 24, 'Alice': 19}\n"
          ]
        }
      ]
    },
    {
      "cell_type": "code",
      "source": [
        "#The del keyword can also delete the dictionary completely:\n",
        "dict_7 = dict_1.copy()\n",
        "del dict_7\n",
        "print('Dictionary 1 is: ',dict_1)\n",
        "print('Dictionary 7 is: ',dict_7) # => dict_7 was deleted, so cannot print it"
      ],
      "metadata": {
        "id": "N_W3UHMKYEpD"
      },
      "execution_count": null,
      "outputs": []
    },
    {
      "cell_type": "code",
      "source": [
        "#The clear() method empties the dictionary:\n",
        "dict_8 = dict_1.copy()\n",
        "dict_8.clear()\n",
        "print('Dictionary 1 is: ',dict_1)\n",
        "print('Dictionary 8 is: ',dict_8)"
      ],
      "metadata": {
        "colab": {
          "base_uri": "https://localhost:8080/"
        },
        "id": "8ueQIwAVY8uD",
        "outputId": "748ae6e8-b5f2-4e3c-d58b-97395b0e77c5"
      },
      "execution_count": null,
      "outputs": [
        {
          "output_type": "stream",
          "name": "stdout",
          "text": [
            "Dictionary 1 is:  {'John': 33, 'Tim': 12, 'Josh': 65, 'Jesseca': 24, 'Alice': 19}\n",
            "Dictionary 8 is:  {}\n"
          ]
        }
      ]
    },
    {
      "cell_type": "markdown",
      "source": [
        "#Loop with dictionary"
      ],
      "metadata": {
        "id": "X4IyIxa4aQ1_"
      }
    },
    {
      "cell_type": "code",
      "source": [
        "#Print all key names in the dictionary, one by one:\n",
        "for i in dict_1:\n",
        "  print(i)"
      ],
      "metadata": {
        "colab": {
          "base_uri": "https://localhost:8080/"
        },
        "id": "caXrIdI_Z-Xj",
        "outputId": "52fe9c8f-7e97-4b19-f8c5-d08c363c445a"
      },
      "execution_count": null,
      "outputs": [
        {
          "output_type": "stream",
          "name": "stdout",
          "text": [
            "John\n",
            "Tim\n",
            "Josh\n",
            "Jesseca\n",
            "Alice\n"
          ]
        }
      ]
    },
    {
      "cell_type": "code",
      "source": [
        "#the keys() method to return the keys of a dictionary:\n",
        "for i in dict_1.keys():\n",
        "  print(i)"
      ],
      "metadata": {
        "colab": {
          "base_uri": "https://localhost:8080/"
        },
        "id": "4N9vrkQhaxIC",
        "outputId": "0ccbca2a-e4ce-4d2c-9787-beb64239f1ae"
      },
      "execution_count": null,
      "outputs": [
        {
          "output_type": "stream",
          "name": "stdout",
          "text": [
            "John\n",
            "Tim\n",
            "Josh\n",
            "Jesseca\n",
            "Alice\n"
          ]
        }
      ]
    },
    {
      "cell_type": "code",
      "source": [
        "#Print all values in the dictionary, one by one:\n",
        "for i in dict_1:\n",
        "  print(dict_1[i])"
      ],
      "metadata": {
        "colab": {
          "base_uri": "https://localhost:8080/"
        },
        "id": "cIHAMAPzabFS",
        "outputId": "551d50a7-6de0-4736-d098-a4b8bb2436c7"
      },
      "execution_count": null,
      "outputs": [
        {
          "output_type": "stream",
          "name": "stdout",
          "text": [
            "33\n",
            "12\n",
            "65\n",
            "24\n",
            "19\n"
          ]
        }
      ]
    },
    {
      "cell_type": "code",
      "source": [
        "#the values() method to return values of a dictionary:\n",
        "for i in dict_1.values():\n",
        "  print(i)"
      ],
      "metadata": {
        "colab": {
          "base_uri": "https://localhost:8080/"
        },
        "id": "qmJov78Dal7S",
        "outputId": "260ef937-0338-4664-8750-a44ec17f921c"
      },
      "execution_count": null,
      "outputs": [
        {
          "output_type": "stream",
          "name": "stdout",
          "text": [
            "33\n",
            "12\n",
            "65\n",
            "24\n",
            "19\n"
          ]
        }
      ]
    },
    {
      "cell_type": "code",
      "source": [
        "#Loop through both keys and values, by using the items() method:\n",
        "for x, y in dict_1.items():\n",
        "  print(x,y)"
      ],
      "metadata": {
        "colab": {
          "base_uri": "https://localhost:8080/"
        },
        "id": "NdWOCqxra-EC",
        "outputId": "dd4c3037-8f20-439c-8283-d630304a5db6"
      },
      "execution_count": null,
      "outputs": [
        {
          "output_type": "stream",
          "name": "stdout",
          "text": [
            "John 33\n",
            "Tim 12\n",
            "Josh 65\n",
            "Jesseca 24\n",
            "Alice 19\n"
          ]
        }
      ]
    },
    {
      "cell_type": "markdown",
      "source": [
        "# Copy of the dict:"
      ],
      "metadata": {
        "id": "w9rJ5Tlobbo5"
      }
    },
    {
      "cell_type": "code",
      "source": [
        "#Make a copy of a dictionary with the copy() method:\n",
        "dict_9 = dict_1.copy()\n",
        "print('Dictionary 1 is: ',dict_1)\n",
        "print('Dictionary 9 is: ',dict_9)"
      ],
      "metadata": {
        "colab": {
          "base_uri": "https://localhost:8080/"
        },
        "id": "zjVNIx3NbNNS",
        "outputId": "603a67b5-a9a1-4dd0-8237-c1877fba98a6"
      },
      "execution_count": null,
      "outputs": [
        {
          "output_type": "stream",
          "name": "stdout",
          "text": [
            "Dictionary 1 is:  {'John': 33, 'Tim': 12, 'Josh': 65, 'Jesseca': 24, 'Alice': 19}\n",
            "Dictionary 9 is:  {'John': 33, 'Tim': 12, 'Josh': 65, 'Jesseca': 24, 'Alice': 19}\n"
          ]
        }
      ]
    },
    {
      "cell_type": "code",
      "source": [
        "#Make a copy of a dictionary with the dict() function:\n",
        "dict_10 = dict(dict_1)\n",
        "print('Dictionary 1 is: ',dict_1)\n",
        "print('Dictionary 10 is: ',dict_10)"
      ],
      "metadata": {
        "colab": {
          "base_uri": "https://localhost:8080/"
        },
        "id": "mZnnIm0IboFq",
        "outputId": "f282158a-b92e-4530-c3d5-c5a5a567c285"
      },
      "execution_count": null,
      "outputs": [
        {
          "output_type": "stream",
          "name": "stdout",
          "text": [
            "Dictionary 1 is:  {'John': 33, 'Tim': 12, 'Josh': 65, 'Jesseca': 24, 'Alice': 19}\n",
            "Dictionary 10 is:  {'John': 33, 'Tim': 12, 'Josh': 65, 'Jesseca': 24, 'Alice': 19}\n"
          ]
        }
      ]
    }
  ]
}
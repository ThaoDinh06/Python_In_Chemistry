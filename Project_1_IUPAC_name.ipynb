{
  "nbformat": 4,
  "nbformat_minor": 0,
  "metadata": {
    "colab": {
      "provenance": []
    },
    "kernelspec": {
      "name": "python3",
      "display_name": "Python 3"
    },
    "language_info": {
      "name": "python"
    }
  },
  "cells": [
    {
      "cell_type": "markdown",
      "source": [
        "# Naming a organic molecule"
      ],
      "metadata": {
        "id": "r5q7cp07tKEM"
      }
    },
    {
      "cell_type": "markdown",
      "source": [
        "**Name = (number of carbon)(number of double bonds)(functional group)**\n",
        "* Example:\n",
        "* CCCC(C=O)OH - pentanoic acid\n",
        "* CCCCOH - butanol"
      ],
      "metadata": {
        "id": "VcoJBpG5vA9D"
      }
    },
    {
      "cell_type": "markdown",
      "source": [
        "Number of carbons:\n",
        "* one: -met\n",
        "* two: -et\n",
        "* three: -prop\n",
        "* four: -but\n",
        "* five: -pent\n",
        "* six: -hex\n",
        "* seven: -hept\n",
        "* eight: -oct\n",
        "* nine: -non\n",
        "* ten: -dec"
      ],
      "metadata": {
        "id": "Jxco30s6tQ1z"
      }
    },
    {
      "cell_type": "markdown",
      "source": [
        "Double bonds:\n",
        "* no double bonds: -an\n",
        "* 1 double bond: -en\n",
        "* 2 double bonds: -dien\n",
        "\n"
      ],
      "metadata": {
        "id": "Uun1vPQjuj05"
      }
    },
    {
      "cell_type": "markdown",
      "source": [
        "Functional group:\n",
        "* carboxylic acid (C=O)OH: -oic acid\n",
        "* hydrocarbon (no special functional group): -e\n",
        "* alcohol (OH): -ol\n",
        "* aldehyde (C=0)H: -al"
      ],
      "metadata": {
        "id": "fZ8JHAGmwLFy"
      }
    },
    {
      "cell_type": "markdown",
      "source": [
        "# Project 1: Name of organic compounds IUPAC"
      ],
      "metadata": {
        "id": "m3qcqjgWyeDL"
      }
    },
    {
      "cell_type": "markdown",
      "source": [
        "Write python code to input a molecule as SMILES and automatic generate it to IUPAC name"
      ],
      "metadata": {
        "id": "JUsZ4z4myytr"
      }
    },
    {
      "cell_type": "code",
      "source": [
        "mole = str(input('Input your substance as SMILES: '))"
      ],
      "metadata": {
        "colab": {
          "base_uri": "https://localhost:8080/"
        },
        "id": "N4IHeBrNtPFK",
        "outputId": "7744e3a6-cc87-406b-de8e-256caeffe3fd"
      },
      "execution_count": null,
      "outputs": [
        {
          "name": "stdout",
          "output_type": "stream",
          "text": [
            "Input your substance as SMILES: CCC=C=CC(C=O)OH\n"
          ]
        }
      ]
    },
    {
      "cell_type": "code",
      "source": [
        "# Determine number of carbon:\n",
        "mole.count(\"C\")"
      ],
      "metadata": {
        "colab": {
          "base_uri": "https://localhost:8080/"
        },
        "id": "gDZmhFpwzZoH",
        "outputId": "66497913-24e0-4168-e3cd-48b918986948"
      },
      "execution_count": null,
      "outputs": [
        {
          "output_type": "execute_result",
          "data": {
            "text/plain": [
              "7"
            ]
          },
          "metadata": {},
          "execution_count": 74
        }
      ]
    },
    {
      "cell_type": "code",
      "source": [
        "# Determine number of carbon:\n",
        "number_dict = {1: \"Met\",\n",
        "               2: \"Et\",\n",
        "               3: \"Prop\",\n",
        "               4: \"But\",\n",
        "               5: \"Pent\",\n",
        "               6: \"Hex\",\n",
        "               7: \"Hept\",\n",
        "               8: \"Oct\",\n",
        "               9: \"Non\",\n",
        "               10: \"Dec\",\n",
        "}\n",
        "carbon_name = number_dict.get(mole.count(\"C\"))\n",
        "print(carbon_name)"
      ],
      "metadata": {
        "colab": {
          "base_uri": "https://localhost:8080/"
        },
        "id": "MUyHhzA000nr",
        "outputId": "bc2cc33f-ae63-4d80-a390-d617b6bd1978"
      },
      "execution_count": null,
      "outputs": [
        {
          "output_type": "stream",
          "name": "stdout",
          "text": [
            "Hept\n"
          ]
        }
      ]
    },
    {
      "cell_type": "code",
      "source": [
        "# Determine number of double bond:\n",
        "bond_dict = {0: \"an\",\n",
        "             1: \"en\",\n",
        "             2: \"dien\",\n",
        "    \n",
        "}\n",
        "bond_name = bond_dict.get(mole.count(\"=\"))\n",
        "print(bond_name)"
      ],
      "metadata": {
        "id": "tnPGOU0Q3Gi8",
        "colab": {
          "base_uri": "https://localhost:8080/"
        },
        "outputId": "d84381ab-7d3b-4448-a2c0-2166f5d228b7"
      },
      "execution_count": null,
      "outputs": [
        {
          "output_type": "stream",
          "name": "stdout",
          "text": [
            "None\n"
          ]
        }
      ]
    },
    {
      "cell_type": "code",
      "source": [
        "# Determine FUNCTION GROUP:\n",
        "funct_group = {\"(C=O)OH\": \"oic acid\",\n",
        "               \"OH\": \"ol\",\n",
        "              \"(C=O)H\": \"al\",\n",
        "}\n",
        "for i in funct_group.keys():\n",
        "  if i in mole:\n",
        "    funct_name = funct_group.get(i)\n",
        "    if i == \"(C=O)OH\" or i == \"(C=O)H\":\n",
        "      bond_name = bond_dict.get(mole.count(\"=\")-1)\n",
        "    else: \n",
        "      bond_name = bond_dict.get(mole.count(\"=\"))\n",
        "    break\n",
        "  else:\n",
        "    funct_name = \"e\"\n",
        "print(funct_name)\n",
        "print(bond_name)"
      ],
      "metadata": {
        "id": "6cQmjgYC3jBl",
        "colab": {
          "base_uri": "https://localhost:8080/"
        },
        "outputId": "96e35200-a73d-4ecb-9443-8ce8744712df"
      },
      "execution_count": null,
      "outputs": [
        {
          "output_type": "stream",
          "name": "stdout",
          "text": [
            "oic acid\n",
            "dien\n"
          ]
        }
      ]
    },
    {
      "cell_type": "code",
      "source": [
        "#name IUPAC = (number of carbon)(number of double bonds)(functional group)\n",
        "print(f'The substance {mole} has name {carbon_name}{bond_name}{funct_name}.')"
      ],
      "metadata": {
        "colab": {
          "base_uri": "https://localhost:8080/"
        },
        "id": "66-eLGcHBYvM",
        "outputId": "764caec7-647a-4941-f7e6-c63a679a20b7"
      },
      "execution_count": null,
      "outputs": [
        {
          "output_type": "stream",
          "name": "stdout",
          "text": [
            "The substance CCC=C=CC(C=O)OH has name Heptdienoic acid.\n"
          ]
        }
      ]
    }
  ]
}